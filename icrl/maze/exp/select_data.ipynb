{
 "cells": [
  {
   "cell_type": "code",
   "execution_count": 2,
   "metadata": {},
   "outputs": [
    {
     "name": "stderr",
     "output_type": "stream",
     "text": [
      "/home/guorui/miniconda3/envs/sepsis/lib/python3.10/site-packages/glfw/__init__.py:916: GLFWError: (65544) b'X11: The DISPLAY environment variable is missing'\n",
      "  warnings.warn(message, GLFWError)\n",
      "<frozen importlib._bootstrap>:283: DeprecationWarning: the load_module() method is deprecated and slated for removal in Python 3.12; use exec_module() instead\n",
      "/home/guorui/miniconda3/envs/sepsis/lib/python3.10/site-packages/chex/_src/pytypes.py:54: DeprecationWarning: jax.random.KeyArray is deprecated. Use jax.Array for annotations, and jax.dtypes.issubdtype(arr, jax.dtypes.prng_key) for runtime detection of typed prng keys.\n",
      "  PRNGKey = Union[jax.random.KeyArray, jax.Array]\n",
      "/home/guorui/miniconda3/envs/sepsis/lib/python3.10/site-packages/flax/linen/module.py:77: DeprecationWarning: jax.random.KeyArray is deprecated. Use jax.Array for annotations, and jax.dtypes.issubdtype(arr, jax.dtypes.prng_key) for runtime detection of typed prng keys.\n",
      "  KeyArray = Union[jax.Array, jax.random.KeyArray]  # pylint: disable=invalid-name\n",
      "/home/guorui/miniconda3/envs/sepsis/lib/python3.10/site-packages/flax/linen/recurrent.py:45: DeprecationWarning: jax.random.KeyArray is deprecated. Use jax.Array for annotations, and jax.dtypes.issubdtype(arr, jax.dtypes.prng_key) for runtime detection of typed prng keys.\n",
      "  PRNGKey = jax.random.KeyArray\n",
      "/home/guorui/miniconda3/envs/sepsis/lib/python3.10/site-packages/flax/linen/recurrent.py:753: DeprecationWarning: jax.random.KeyArray is deprecated. Use jax.Array for annotations, and jax.dtypes.issubdtype(arr, jax.dtypes.prng_key) for runtime detection of typed prng keys.\n",
      "  init_key: Optional[random.KeyArray] = None,\n",
      "/home/guorui/miniconda3/envs/sepsis/lib/python3.10/site-packages/flax/linen/recurrent.py:979: DeprecationWarning: jax.random.KeyArray is deprecated. Use jax.Array for annotations, and jax.dtypes.issubdtype(arr, jax.dtypes.prng_key) for runtime detection of typed prng keys.\n",
      "  init_key: Optional[random.KeyArray] = None,\n",
      "/home/guorui/miniconda3/envs/sepsis/lib/python3.10/site-packages/flax/linen/recurrent.py:1003: DeprecationWarning: jax.random.KeyArray is deprecated. Use jax.Array for annotations, and jax.dtypes.issubdtype(arr, jax.dtypes.prng_key) for runtime detection of typed prng keys.\n",
      "  init_key: Optional[random.KeyArray] = None,\n",
      "/home/guorui/miniconda3/envs/sepsis/lib/python3.10/site-packages/flax/linen/stochastic.py:28: DeprecationWarning: jax.random.KeyArray is deprecated. Use jax.Array for annotations, and jax.dtypes.issubdtype(arr, jax.dtypes.prng_key) for runtime detection of typed prng keys.\n",
      "  KeyArray = Union[jax.Array, jax.random.KeyArray]\n",
      "WARNING: All log messages before absl::InitializeLog() is called are written to STDERR\n",
      "I0000 00:00:1704332141.105027 1444302 tfrt_cpu_pjrt_client.cc:349] TfrtCpuClient created.\n"
     ]
    }
   ],
   "source": [
    "import os\n",
    "os.environ[\"JAX_PLATFORM_NAME\"] = \"cpu\"\n",
    "\n",
    "# os.environ[\"CUDA_VISIBLE_DEVICES\"] = \"1\"\n",
    "import jax\n",
    "import numpy as np\n",
    "import gymnasium as gym\n",
    "import orbax.checkpoint\n",
    "\n",
    "import numpy as np\n",
    "import matplotlib.pyplot as plt\n",
    "import optax\n",
    "import jax\n",
    "import jax.numpy as jnp\n",
    "from flax.training.train_state import TrainState\n",
    "import collections\n",
    "import flax\n",
    "from icrl.maze.utility import (\n",
    "    RLTrainState,\n",
    "    VectorCritic,\n",
    "    ValueCritic,\n",
    "    concatenated_indices,\n",
    "    BatchData,\n",
    ")\n",
    "from icrl.maze.exp.OpiDice import OpiDice\n",
    "\n",
    "\n",
    "env_id = \"Maze2d_simple\"\n",
    "env = gym.make(env_id)\n",
    "\n",
    "key = jax.random.PRNGKey(0)\n",
    "key, actor_key, qf_key, ent_vkey = jax.random.split(key, 4)\n",
    "\n",
    "obs = jnp.array([env.observation_space.sample()])\n",
    "action = jnp.array([env.action_space.sample()])\n"
   ]
  },
  {
   "cell_type": "code",
   "execution_count": 3,
   "metadata": {},
   "outputs": [
    {
     "name": "stdout",
     "output_type": "stream",
     "text": [
      "{(10, 3, 16, 16): {5, 167, 7, 178, 124, 191}, (9, 3, 16, 16): {5, 170, 44, 178, 124, 189}, (3, 3, 14, 14): {164, 104, 172, 179, 23, 186}, (12, 4, 17, 17): {193, 5, 167, 174, 183}, (5, 3, 16, 16): {164, 8, 119, 186, 190}, (3, 3, 15, 15): {164, 172, 110, 179, 23}, (14, 5, 16, 16): {184, 193, 5, 174}, (13, 5, 14, 14): {191, 5, 182, 183}, (15, 6, 13, 13): {187, 44, 5, 182}, (15, 6, 11, 11): {187, 44, 5, 182}, (3, 3, 13, 13): {186, 179, 164, 23}, (15, 6, 8, 8): {44, 5, 182}, (16, 12, 15, 15): {192, 185, 5}, (16, 6, 16, 16): {182, 5, 174}, (10, 3, 9, 9): {193, 5, 167}, (16, 6, 12, 12): {160, 44, 5}, (16, 7, 16, 16): {187, 5, 182}, (16, 7, 17, 17): {187, 5, 182}, (15, 6, 10, 10): {44, 5, 182}, (16, 7, 14, 14): {187, 5, 182}, (15, 5, 14, 14): {5, 174, 189}, (10, 3, 15, 15): {124, 5, 191}, (13, 5, 17, 17): {187, 5, 183}, (14, 5, 17, 17): {184, 193, 5}, (12, 4, 16, 16): {193, 5, 183}, (16, 7, 13, 13): {187, 5, 182}, (16, 7, 15, 15): {187, 5, 182}, (9, 3, 14, 14): {124, 5, 189}, (5, 3, 14, 14): {8, 186, 109}, (5, 3, 15, 15): {8, 190, 110}, (6, 4, 15, 15): {8, 186, 190}, (3, 3, 12, 12): {186, 164, 23}, (16, 12, 16, 16): {185, 5}, (10, 3, 12, 12): {5, 191}, (16, 12, 14, 14): {192, 5}, (15, 6, 12, 12): {5, 182}, (13, 4, 17, 17): {5, 167}, (16, 6, 10, 10): {44, 5}, (16, 6, 15, 15): {5, 182}, (15, 6, 14, 14): {160, 5}, (16, 6, 17, 17): {5, 174}, (13, 5, 15, 15): {5, 182}, (12, 4, 15, 15): {5, 183}, (14, 5, 14, 14): {184, 5}, (9, 3, 13, 13): {5, 189}, (5, 3, 13, 13): {8, 190}, (6, 4, 12, 12): {8, 190}, (6, 4, 13, 13): {8, 190}, (3, 3, 17, 17): {104, 23}}\n"
     ]
    }
   ],
   "source": [
    "def get_index_dict():\n",
    "    checkpointer = orbax.checkpoint.PyTreeCheckpointer()\n",
    "    data = checkpointer.restore(\n",
    "        \"/home/guorui/jax-rl/tmp/buffer/Maze2d_simple/Maze2d_simple__new_sac_reward_shaping__1__1700637466/\"\n",
    "    )\n",
    "    dataset = {}\n",
    "    start_index = 0\n",
    "    end_index = 50000\n",
    "    dataset[\"observations\"] = jnp.array(\n",
    "        data[0][start_index:end_index, 0, :4].astype(jnp.float32)\n",
    "    )\n",
    "    startpoint = (-1, -1)\n",
    "    dataset[\"index\"] = jnp.array(\n",
    "        (dataset[\"observations\"][:, 0] == startpoint[0])\n",
    "        & (dataset[\"observations\"][:, 1] == startpoint[1])\n",
    "    )\n",
    "    dataset[\"index\"],intervals = concatenated_indices(dataset[\"index\"])\n",
    "    num_parts = 20\n",
    "    xy_values = np.linspace(-1, 1, num_parts)\n",
    "    v_values = np.linspace(-0.5, 1, num_parts)\n",
    "\n",
    "    # Create an empty dictionary\n",
    "    index_dict = {}\n",
    "\n",
    "    # Iterate through each element and update the dictionary\n",
    "    ids=[]\n",
    "    for index in range(len(intervals)):\n",
    "        interval=intervals[index]\n",
    "        if (jnp.array(data[3][interval[0]:interval[1], 0])).any():\n",
    "            ids.append(index)\n",
    "        element=dataset[\"observations\"][interval[0]:interval[1]]\n",
    "        x_index = np.digitize(element[:,0], xy_values)\n",
    "        y_index = np.digitize(element[:,1], xy_values)\n",
    "        vx_index = np.digitize(element[:,3], v_values)\n",
    "        vy_index = np.digitize(element[:,4], v_values)\n",
    "        # Convert the indices to a tuple to use it as a key\n",
    "        for key in set(zip(x_index, y_index, vx_index, vy_index)):\n",
    "            if key in index_dict:\n",
    "                index_dict[key].add(index)\n",
    "            else:\n",
    "                index_dict[key] = set([index])\n",
    "\n",
    "    # Print the resulting dictionary\n",
    "    good_keys=list(filter(lambda x:(np.array(x)>2).all() and (np.array(x)<18).all(),list(index_dict.keys())))\n",
    "    new_index_dict={key:index_dict[key] for key in good_keys if len(index_dict[key])>1 and len(index_dict[key].intersection(ids))>0}\n",
    "    new_index_dict={k: v for k, v in sorted(new_index_dict.items(), key=lambda item: len(item[1]),reverse=True)}\n",
    "    return new_index_dict,intervals\n",
    "index_dict,intervals=get_index_dict()\n",
    "print(intervals)\n",
    "print(index_dict)"
   ]
  },
  {
   "cell_type": "code",
   "execution_count": 7,
   "metadata": {},
   "outputs": [
    {
     "data": {
      "text/plain": [
       "63"
      ]
     },
     "execution_count": 7,
     "metadata": {},
     "output_type": "execute_result"
    }
   ],
   "source": [
    "np.array([y-x for x,y in intervals]).argmin()"
   ]
  },
  {
   "cell_type": "code",
   "execution_count": 9,
   "metadata": {},
   "outputs": [],
   "source": [
    "def get_random_data(index_list):\n",
    "    checkpointer = orbax.checkpoint.PyTreeCheckpointer()\n",
    "    data = checkpointer.restore(\n",
    "        \"/home/guorui/jax-rl/tmp/buffer/Maze2d_simple/Maze2d_simple__new_sac_reward_shaping__1__1700637466/\"\n",
    "    )\n",
    "    dataset = {}\n",
    "    start_index = 0\n",
    "    end_index = 50000\n",
    "    dataset[\"observations\"] = jnp.array(\n",
    "        data[0][start_index:end_index, 0, :4].astype(jnp.float32)\n",
    "    )\n",
    "    startpoint = (-1, -1)\n",
    "    dataset[\"index\"] = jnp.array(\n",
    "        (dataset[\"observations\"][:, 0] == startpoint[0])\n",
    "        & (dataset[\"observations\"][:, 1] == startpoint[1])\n",
    "    )\n",
    "\n",
    "    import random\n",
    "    intervals=concatenated_indices(dataset[\"index\"])[1]\n",
    "    sample_interval = [intervals[i] for i in index_list]\n",
    "    print(index_list)\n",
    "    selected_index = np.concatenate(\n",
    "        [np.arange(start, end) for (start, end) in sample_interval]\n",
    "    )\n",
    "    dataset[\"observations\"] = jnp.array(\n",
    "        data[0][selected_index, 0, :4].astype(jnp.float32)\n",
    "    )\n",
    "    dataset[\"next_observations\"] = jnp.array(\n",
    "        data[1][selected_index, 0, :4].astype(jnp.float32)\n",
    "    )\n",
    "    dataset[\"actions\"] = jnp.array(data[2][selected_index, 0])\n",
    "    dataset[\"rewards\"] = (jnp.array(data[4][selected_index, 0].clip(0)) - 100) / 100\n",
    "    dataset[\"infos\"] = data[5]\n",
    "    dataset[\"terminals\"] = jnp.array(data[3][selected_index, 0])\n",
    "    dataset[\"timeouts\"] = jnp.zeros_like(dataset[\"terminals\"])\n",
    "    startpoint = (-1, -1)\n",
    "    dataset[\"index\"] = jnp.array(\n",
    "        (dataset[\"observations\"][:, 0] == startpoint[0])\n",
    "        & (dataset[\"observations\"][:, 1] == startpoint[1])\n",
    "    )\n",
    "    dataset[\"index\"] = jnp.array(concatenated_indices(dataset[\"index\"])[0])\n",
    "    dataset[\"init_eff\"] = 1 / (dataset[\"index\"] == 0).mean()\n",
    "    dataset[\"init_obs\"] = dataset[\"observations\"][dataset[\"index\"] == 0]\n",
    "    return dataset"
   ]
  },
  {
   "cell_type": "code",
   "execution_count": 14,
   "metadata": {},
   "outputs": [
    {
     "data": {
      "text/plain": [
       "{(10, 3, 16, 16): {5, 7, 124, 167, 178, 191},\n",
       " (9, 3, 16, 16): {5, 44, 124, 170, 178, 189},\n",
       " (3, 3, 14, 14): {23, 104, 164, 172, 179, 186},\n",
       " (12, 4, 17, 17): {5, 167, 174, 183, 193},\n",
       " (5, 3, 16, 16): {8, 119, 164, 186, 190},\n",
       " (3, 3, 15, 15): {23, 110, 164, 172, 179},\n",
       " (14, 5, 16, 16): {5, 174, 184, 193},\n",
       " (13, 5, 14, 14): {5, 182, 183, 191},\n",
       " (15, 6, 13, 13): {5, 44, 182, 187},\n",
       " (15, 6, 11, 11): {5, 44, 182, 187},\n",
       " (3, 3, 13, 13): {23, 164, 179, 186},\n",
       " (15, 6, 8, 8): {5, 44, 182},\n",
       " (16, 12, 15, 15): {5, 185, 192},\n",
       " (16, 6, 16, 16): {5, 174, 182},\n",
       " (10, 3, 9, 9): {5, 167, 193},\n",
       " (16, 6, 12, 12): {5, 44, 160},\n",
       " (16, 7, 16, 16): {5, 182, 187},\n",
       " (16, 7, 17, 17): {5, 182, 187},\n",
       " (15, 6, 10, 10): {5, 44, 182},\n",
       " (16, 7, 14, 14): {5, 182, 187},\n",
       " (15, 5, 14, 14): {5, 174, 189},\n",
       " (10, 3, 15, 15): {5, 124, 191},\n",
       " (13, 5, 17, 17): {5, 183, 187},\n",
       " (14, 5, 17, 17): {5, 184, 193},\n",
       " (12, 4, 16, 16): {5, 183, 193},\n",
       " (16, 7, 13, 13): {5, 182, 187},\n",
       " (16, 7, 15, 15): {5, 182, 187},\n",
       " (9, 3, 14, 14): {5, 124, 189},\n",
       " (5, 3, 14, 14): {8, 109, 186},\n",
       " (5, 3, 15, 15): {8, 110, 190},\n",
       " (6, 4, 15, 15): {8, 186, 190},\n",
       " (3, 3, 12, 12): {23, 164, 186},\n",
       " (16, 12, 16, 16): {5, 185},\n",
       " (10, 3, 12, 12): {5, 191},\n",
       " (16, 12, 14, 14): {5, 192},\n",
       " (15, 6, 12, 12): {5, 182},\n",
       " (13, 4, 17, 17): {5, 167},\n",
       " (16, 6, 10, 10): {5, 44},\n",
       " (16, 6, 15, 15): {5, 182},\n",
       " (15, 6, 14, 14): {5, 160},\n",
       " (16, 6, 17, 17): {5, 174},\n",
       " (13, 5, 15, 15): {5, 182},\n",
       " (12, 4, 15, 15): {5, 183},\n",
       " (14, 5, 14, 14): {5, 184},\n",
       " (9, 3, 13, 13): {5, 189},\n",
       " (5, 3, 13, 13): {8, 190},\n",
       " (6, 4, 12, 12): {8, 190},\n",
       " (6, 4, 13, 13): {8, 190},\n",
       " (3, 3, 17, 17): {23, 104}}"
      ]
     },
     "execution_count": 14,
     "metadata": {},
     "output_type": "execute_result"
    }
   ],
   "source": []
  },
  {
   "cell_type": "code",
   "execution_count": null,
   "metadata": {},
   "outputs": [],
   "source": [
    "import itertools\n",
    "for key in list(itertools.islice(index_dict, 3,20)):\n",
    "    dataset = get_random_data(index_dict[key])\n",
    "    plt.figure()\n",
    "    indices = np.where(dataset[\"index\"] == 0)[0]\n",
    "    last_indices = np.concatenate([indices[1:], [len(dataset[\"index\"])]])\n",
    "\n",
    "    for r,l in zip(indices,last_indices):\n",
    "        plt.plot(\n",
    "        dataset[\"observations\"][r:l, 0],\n",
    "        dataset[\"observations\"][r:l, 1],\n",
    "        # color=dataset[\"terminals\"]\n",
    "        )\n"
   ]
  },
  {
   "cell_type": "code",
   "execution_count": 10,
   "metadata": {},
   "outputs": [
    {
     "name": "stdout",
     "output_type": "stream",
     "text": [
      "[193, 5, 8, 63]\n"
     ]
    },
    {
     "data": {
      "image/png": "[encoded data removed]",
      "text/plain": [
       "<Figure size 640x480 with 1 Axes>"
      ]
     },
     "metadata": {},
     "output_type": "display_data"
    }
   ],
   "source": [
    "dataset = get_random_data([193, 5,   8,63 ])\n",
    "plt.figure()\n",
    "indices = np.where(dataset[\"index\"] == 0)[0]\n",
    "last_indices = np.concatenate([indices[1:], [len(dataset[\"index\"])]])\n",
    "\n",
    "for r,l in zip(indices,last_indices):\n",
    "    plt.plot(\n",
    "    dataset[\"observations\"][r:l, 0],\n",
    "    dataset[\"observations\"][r:l, 1],\n",
    "    # color=dataset[\"terminals\"]\n",
    "    )\n"
   ]
  }
 ],
 "metadata": {
  "kernelspec": {
   "display_name": "sepsis",
   "language": "python",
   "name": "python3"
  },
  "language_info": {
   "codemirror_mode": {
    "name": "ipython",
    "version": 3
   },
   "file_extension": ".py",
   "mimetype": "text/x-python",
   "name": "python",
   "nbconvert_exporter": "python",
   "pygments_lexer": "ipython3",
   "version": "3.10.12"
  }
 },
 "nbformat": 4,
 "nbformat_minor": 2
}
