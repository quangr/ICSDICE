{
 "cells": [
  {
   "cell_type": "code",
   "execution_count": 1,
   "metadata": {
    "execution": {
     "iopub.execute_input": "2024-05-27T10:03:09.625964Z",
     "iopub.status.busy": "2024-05-27T10:03:09.625167Z",
     "iopub.status.idle": "2024-05-27T10:03:09.633797Z",
     "shell.execute_reply": "2024-05-27T10:03:09.633135Z"
    }
   },
   "outputs": [
    {
     "name": "stdout",
     "output_type": "stream",
     "text": [
      "/home/guorui/ICSDICE\n"
     ]
    },
    {
     "name": "stderr",
     "output_type": "stream",
     "text": [
      "/home/guorui/miniconda3/envs/ICSDICE/lib/python3.10/site-packages/IPython/core/magics/osm.py:417: UserWarning: This is now an optional IPython functionality, setting dhist requires you to install the `pickleshare` library.\n",
      "  self.shell.db['dhist'] = compress_dhist(dhist)[-100:]\n"
     ]
    }
   ],
   "source": [
    "import os\n",
    "if os.getcwd() != 'pwd':\n",
    "   %cd ../../.."
   ]
  },
  {
   "cell_type": "code",
   "execution_count": 2,
   "metadata": {
    "execution": {
     "iopub.execute_input": "2024-05-27T10:03:09.672019Z",
     "iopub.status.busy": "2024-05-27T10:03:09.670909Z",
     "iopub.status.idle": "2024-05-27T10:03:15.887420Z",
     "shell.execute_reply": "2024-05-27T10:03:15.886453Z"
    }
   },
   "outputs": [
    {
     "name": "stdout",
     "output_type": "stream",
     "text": [
      "[5, 8, 63, 67]\n"
     ]
    }
   ],
   "source": [
    "import jax\n",
    "import numpy as np\n",
    "import gymnasium as gym\n",
    "import orbax.checkpoint\n",
    "\n",
    "import numpy as np\n",
    "import matplotlib.pyplot as plt\n",
    "import jax\n",
    "import jax.numpy as jnp\n",
    "from icrl.maze.utility import (\n",
    "    ValueCritic,\n",
    "    concatenated_indices,\n",
    "    BatchData,\n",
    ")\n",
    "from icrl.maze.exp.OptiDice import OptiDice\n",
    "from icrl.maze.exp.ICSDICE import ICSDICENoIS,ICSDICEBaseline\n",
    "\n",
    "TrainClass = {\"OptiDice\": OptiDice, \"Our Method(w/o discount)\":  ICSDICEBaseline, \"Our Method\": ICSDICENoIS}\n",
    "env_id = \"Maze2d_simple\"\n",
    "env = gym.make(env_id)\n",
    "\n",
    "key = jax.random.PRNGKey(0)\n",
    "key, actor_key, qf_key, ent_vkey = jax.random.split(key, 4)\n",
    "\n",
    "obs = jnp.array([env.observation_space.sample()])\n",
    "action = jnp.array([env.action_space.sample()])\n",
    "\n",
    "\n",
    "def get_data(index_list):\n",
    "    checkpointer = orbax.checkpoint.PyTreeCheckpointer()\n",
    "    data = checkpointer.restore(\n",
    "        \"dataset/maze\"\n",
    "    )\n",
    "    dataset = {}\n",
    "    start_index = 0\n",
    "    end_index = 50000\n",
    "    dataset[\"observations\"] = jnp.array(\n",
    "        data[0][start_index:end_index, 0, :4].astype(jnp.float32)\n",
    "    )\n",
    "    startpoint = (-1, -1)\n",
    "    dataset[\"index\"] = jnp.array(\n",
    "        (dataset[\"observations\"][:, 0] == startpoint[0])\n",
    "        & (dataset[\"observations\"][:, 1] == startpoint[1])\n",
    "    )\n",
    "    intervals = concatenated_indices(dataset[\"index\"])[1]\n",
    "    sample_interval = [intervals[i] for i in index_list]\n",
    "    print(index_list)\n",
    "    selected_index = np.concatenate(\n",
    "        [np.arange(start, end) for (start, end) in sample_interval]\n",
    "    )\n",
    "    dataset[\"observations\"] = jnp.array(\n",
    "        data[0][selected_index, 0, :4].astype(jnp.float32)\n",
    "    )\n",
    "    dataset[\"next_observations\"] = jnp.array(\n",
    "        data[1][selected_index, 0, :4].astype(jnp.float32)\n",
    "    )\n",
    "    dataset[\"actions\"] = jnp.array(data[2][selected_index, 0])\n",
    "    dataset[\"rewards\"] = (jnp.array(data[4][selected_index, 0].clip(0)) - 100) / 100*5\n",
    "    dataset[\"infos\"] = data[5]\n",
    "    dataset[\"terminals\"] = jnp.array(data[3][selected_index, 0])\n",
    "    dataset[\"timeouts\"] = jnp.zeros_like(dataset[\"terminals\"])\n",
    "    startpoint = (-1, -1)\n",
    "    dataset[\"index\"] = jnp.array(\n",
    "        (dataset[\"observations\"][:, 0] == startpoint[0])\n",
    "        & (dataset[\"observations\"][:, 1] == startpoint[1])\n",
    "    )\n",
    "    dataset[\"index\"] = jnp.array(concatenated_indices(dataset[\"index\"])[0])\n",
    "    dataset[\"init_eff\"] = 1 / (dataset[\"index\"] == 0).mean()\n",
    "    dataset[\"init_obs\"] = dataset[\"observations\"][dataset[\"index\"] == 0]\n",
    "    return dataset\n",
    "\n",
    "\n",
    "# dataset = get_data([193, 5, 8, 63])\n",
    "dataset = get_data([5,8, 63,67])\n",
    "\n",
    "\n",
    "def sample_batch(key):\n",
    "    sample_key, key = jax.random.split(key, 2)\n",
    "    expert_indice = jax.random.randint(\n",
    "        sample_key, minval=0, maxval=len(dataset[\"observations\"]), shape=(256,)\n",
    "    )\n",
    "    init_key, key = jax.random.split(key, 2)\n",
    "    init_indice = jax.random.randint(\n",
    "        init_key, minval=0, maxval=len(dataset[\"init_obs\"]), shape=(256,)\n",
    "    )\n",
    "    Policy_Batch = BatchData(\n",
    "        dataset[\"observations\"][expert_indice],\n",
    "        dataset[\"actions\"][expert_indice],\n",
    "        dataset[\"next_observations\"][expert_indice],\n",
    "        dataset[\"rewards\"][expert_indice],\n",
    "        dataset[\"terminals\"][expert_indice],\n",
    "        dataset[\"index\"][expert_indice],\n",
    "        cost_region(\n",
    "            dataset[\"next_observations\"][expert_indice, 0],\n",
    "            dataset[\"next_observations\"][expert_indice, 1],\n",
    "        ),\n",
    "        dataset[\"init_obs\"][init_indice],\n",
    "    )\n",
    "\n",
    "    return Policy_Batch, key\n",
    "\n",
    "\n",
    "# def cost_region(x, y):\n",
    "#     return (x < -0.6) & (y < 0.3) & (y > -0.3)\n",
    "\n",
    "\n",
    "def cost_region(x, y):\n",
    "    return jnp.zeros_like(x)"
   ]
  },
  {
   "cell_type": "code",
   "execution_count": 3,
   "metadata": {
    "execution": {
     "iopub.execute_input": "2024-05-27T10:03:15.891347Z",
     "iopub.status.busy": "2024-05-27T10:03:15.890958Z",
     "iopub.status.idle": "2024-05-27T10:03:15.900423Z",
     "shell.execute_reply": "2024-05-27T10:03:15.899274Z"
    }
   },
   "outputs": [],
   "source": [
    "def get_train_obj(trainclass, gamma, alpha):\n",
    "    obj = trainclass(gamma=gamma, alpha=alpha)\n",
    "    if trainclass.__name__  in [\"ICSDICENoDiscount\",\"ICSDICE\"] :\n",
    "        obj.init_eff = dataset[\"init_eff\"]\n",
    "    return obj\n",
    "\n",
    "\n",
    "def train_baseline(trainclass, gamma=0.99, alpha=0.05):\n",
    "    train_obj = get_train_obj(trainclass, gamma, alpha)\n",
    "    agent_state = train_obj.GetTrainState(obs)\n",
    "    _reward_train_step = jax.jit(train_obj.reward_train_step)\n",
    "\n",
    "    def reward_train_step_body(carry, step):\n",
    "        agentstate = carry\n",
    "        Batch, key = sample_batch(agentstate.key)\n",
    "        agentstate = agentstate._replace(key=key)\n",
    "        agentstate, callback_log = _reward_train_step(agentstate, Batch)\n",
    "        return agentstate, callback_log\n",
    "    total_step=1000\n",
    "    agent_states=[]\n",
    "    for i in range(total_step):\n",
    "        if i % (total_step//10)==0:\n",
    "            agent_states.append(agent_state)\n",
    "        agent_state, reward_callback_log = jax.lax.scan(\n",
    "            reward_train_step_body,\n",
    "            (agent_state),\n",
    "            (),\n",
    "            length=100,\n",
    "        )\n",
    "    return agent_state, reward_callback_log,agent_states\n",
    "\n",
    "\n",
    "vf = ValueCritic()\n",
    "\n",
    "\n",
    "def plot_value(trainclass, agent_state, alpha, gamma):\n",
    "    train_obj = get_train_obj(trainclass, gamma, alpha)\n",
    "    tdv, v = train_obj.get_tdv(\n",
    "        agent_state,\n",
    "        dataset[\"observations\"],\n",
    "        dataset[\"next_observations\"],\n",
    "        dataset[\"rewards\"],\n",
    "    )\n",
    "    return tdv"
   ]
  },
  {
   "cell_type": "code",
   "execution_count": 4,
   "metadata": {
    "execution": {
     "iopub.execute_input": "2024-05-27T10:03:15.904007Z",
     "iopub.status.busy": "2024-05-27T10:03:15.903608Z",
     "iopub.status.idle": "2024-05-27T10:07:14.227918Z",
     "shell.execute_reply": "2024-05-27T10:07:14.226458Z"
    }
   },
   "outputs": [],
   "source": [
    "alphas = [0.01,0.1,1]\n",
    "tdvs = {}\n",
    "plots = {}\n",
    "agent_states = {}\n",
    "for trainclass in TrainClass.values():\n",
    "    for i, alpha in enumerate(alphas):\n",
    "        gamma = 0.99\n",
    "        method=trainclass.__name__\n",
    "        agent_state_without_q, reward_callback_log_without_q,agent_states[(method, alpha)] = train_baseline(\n",
    "            trainclass, gamma=gamma, alpha=alpha\n",
    "        )\n",
    "        tdvs[(method, alpha)] = plot_value(\n",
    "            trainclass, agent_state_without_q, alpha, gamma\n",
    "        )\n"
   ]
  },
  {
   "cell_type": "code",
   "execution_count": 5,
   "metadata": {
    "execution": {
     "iopub.execute_input": "2024-05-27T10:07:14.233675Z",
     "iopub.status.busy": "2024-05-27T10:07:14.233272Z",
     "iopub.status.idle": "2024-05-27T10:07:17.327364Z",
     "shell.execute_reply": "2024-05-27T10:07:17.326696Z"
    }
   },
   "outputs": [
    {
     "data": {
      "image/png": "[encoded data removed]",
      "text/plain": [
       "<Figure size 700x400 with 12 Axes>"
      ]
     },
     "metadata": {},
     "output_type": "display_data"
    }
   ],
   "source": [
    "from matplotlib.backends.backend_pdf import PdfPages\n",
    "limits = np.linspace(-2, -1, 3)\n",
    "plot_alphas = sorted(alphas)\n",
    "fig = plt.figure( figsize=(7, 4))\n",
    "axes=[]\n",
    "for i, trainclass in enumerate(TrainClass.values()):\n",
    "    method=trainclass.__name__\n",
    "    axes.append([])\n",
    "    for j, alpha in enumerate(plot_alphas):\n",
    "        ax=fig.add_subplot(len(TrainClass.keys()), len(plot_alphas)+1,i*(len(plot_alphas)+1)+j+1)\n",
    "        axes[i].append(ax)\n",
    "        ax.scatter(\n",
    "            dataset[\"observations\"][:, 0],\n",
    "            dataset[\"observations\"][:, 1],\n",
    "            c=(tdvs[(method, alpha)] > -1)\n",
    "            * (\n",
    "                1\n",
    "                - cost_region(\n",
    "                    dataset[\"next_observations\"][:, 0],\n",
    "                    dataset[\"next_observations\"][:, 1],\n",
    "                )\n",
    "            ),\n",
    "            vmin=0,\n",
    "            vmax=1,\n",
    "            cmap=\"Greys\",\n",
    "            s=1,\n",
    "            rasterized=True,\n",
    "        )\n",
    "        masked=cost_region(\n",
    "                    dataset[\"next_observations\"][:, 0],\n",
    "                    dataset[\"next_observations\"][:, 1],\n",
    "                )>0\n",
    "        ax.scatter(\n",
    "            dataset[\"observations\"][masked, 0],\n",
    "            dataset[\"observations\"][masked, 1],\n",
    "            marker=\"x\",\n",
    "            c=\"red\"\n",
    "        )\n",
    "        cir = plt.Circle((-1, -1), 0.1, color='green',fill=False)\n",
    "        ax.add_patch(cir)\n",
    "        cir = plt.Circle((-1, 1), 0.45, color='r',fill=False,linewidth=2,linestyle=\"--\")\n",
    "        ax.add_patch(cir)\n",
    "        # axes[i, j].plot(-1, 1, 'o', c='red', mfc='none',linewidth=10.0, markersize=50)\n",
    "        ax.tick_params(axis=u'both', which=u'both',length=0,labelbottom=False,labelleft=False)\n",
    "        ax.axis(xmin=-1.2,xmax=1.2,ymin=-1.2,ymax=1.2)\n",
    "\n",
    "def gt(ax):\n",
    "    ax.scatter(\n",
    "    dataset[\"observations\"][:, 0],\n",
    "    dataset[\"observations\"][:, 1],\n",
    "    c=\"black\",\n",
    "    s=1,\n",
    "    rasterized=True,\n",
    ")\n",
    "    cir = plt.Circle((-1, -1), 0.1, color='green',fill=False)\n",
    "    ax.add_patch(cir)\n",
    "    cir = plt.Circle((-1, 1), 0.45, color='r',fill=False,linewidth=2,linestyle=\"--\")\n",
    "    ax.add_patch(cir)\n",
    "    ax.tick_params(axis=u'both', which=u'both',length=0,labelbottom=False,labelleft=False)\n",
    "    ax.axis(xmin=-1.2,xmax=1.2,ymin=-1.2,ymax=1.2)\n",
    "    # ax.set_xlabel(r\"Dataset $D^O$\")\n",
    "ax=fig.add_subplot(len(TrainClass.keys()), len(plot_alphas)+1,1*(len(plot_alphas)+1))\n",
    "gt(ax)\n",
    "ax.set_title(r\"Dataset $D^O$\")\n",
    "ax=fig.add_subplot(len(TrainClass.keys()), len(plot_alphas)+1,2*(len(plot_alphas)+1))\n",
    "gt(ax)\n",
    "ax=fig.add_subplot(len(TrainClass.keys()), len(plot_alphas)+1,3*(len(plot_alphas)+1))\n",
    "gt(ax)\n",
    "\n",
    "for ax, col in zip([x[0] for x in axes], [\"OptiDice\\n\", \"Our Method \\n (w/o discount)\",\"Our Method\\n\"]):\n",
    "    ax.set_ylabel( str(col))\n",
    "    # ax.yaxis.set_label_coords(-0.5, 0.4)\n",
    "for ax, row in zip(axes[0], plot_alphas):\n",
    "    ax.set_title(r\"$\\xi_r$=\" + str(row))\n",
    "# with PdfPages('tmp/paper/maze.pdf') as pdf:\n",
    "#     pdf.savefig(fig, bbox_inches='tight',pad_inches=0.05)"
   ]
  }
 ],
 "metadata": {
  "kernelspec": {
   "display_name": "sepsis",
   "language": "python",
   "name": "python3"
  },
  "language_info": {
   "codemirror_mode": {
    "name": "ipython",
    "version": 3
   },
   "file_extension": ".py",
   "mimetype": "text/x-python",
   "name": "python",
   "nbconvert_exporter": "python",
   "pygments_lexer": "ipython3",
   "version": "3.10.14"
  }
 },
 "nbformat": 4,
 "nbformat_minor": 2
}
